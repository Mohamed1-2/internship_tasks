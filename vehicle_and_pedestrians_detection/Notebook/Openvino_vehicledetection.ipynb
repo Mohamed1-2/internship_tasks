{
  "cells": [
    {
      "cell_type": "code",
      "execution_count": null,
      "metadata": {
        "id": "qMB9spN0reIb"
      },
      "outputs": [],
      "source": [
        "\n",
        "# import the necessary packages\n",
        "from imutils.video import VideoStream\n",
        "from imutils.video import FPS\n",
        "import argparse\n",
        "import time\n",
        "import cv2\n",
        "import os\n",
        "from google.colab.patches import cv2_imshow\n",
        "import imutils"
      ]
    },
    {
      "cell_type": "code",
      "execution_count": null,
      "metadata": {
        "colab": {
          "base_uri": "https://localhost:8080/",
          "height": 972
        },
        "id": "KxWDfLCFgu0V",
        "outputId": "d75fcf1f-2f99-485d-e939-2fec86685edc"
      },
      "outputs": [
        {
          "name": "stdout",
          "output_type": "stream",
          "text": [
            "Found existing installation: opencv-python 4.6.0.66\n",
            "Uninstalling opencv-python-4.6.0.66:\n",
            "  Would remove:\n",
            "    /usr/local/lib/python3.7/dist-packages/cv2/*\n",
            "    /usr/local/lib/python3.7/dist-packages/opencv_python-4.6.0.66.dist-info/*\n",
            "    /usr/local/lib/python3.7/dist-packages/opencv_python.libs/libQt5Core-39545cc7.so.5.15.0\n",
            "    /usr/local/lib/python3.7/dist-packages/opencv_python.libs/libQt5Gui-48e93776.so.5.15.0\n",
            "    /usr/local/lib/python3.7/dist-packages/opencv_python.libs/libQt5Test-c38a5234.so.5.15.0\n",
            "    /usr/local/lib/python3.7/dist-packages/opencv_python.libs/libQt5Widgets-e69d94fb.so.5.15.0\n",
            "    /usr/local/lib/python3.7/dist-packages/opencv_python.libs/libQt5XcbQpa-c112ba75.so.5.15.0\n",
            "    /usr/local/lib/python3.7/dist-packages/opencv_python.libs/libX11-xcb-69166bdf.so.1.0.0\n",
            "    /usr/local/lib/python3.7/dist-packages/opencv_python.libs/libXau-00ec42fe.so.6.0.0\n",
            "    /usr/local/lib/python3.7/dist-packages/opencv_python.libs/libavcodec-5896f664.so.58.134.100\n",
            "    /usr/local/lib/python3.7/dist-packages/opencv_python.libs/libavformat-8ef5c7db.so.58.76.100\n",
            "    /usr/local/lib/python3.7/dist-packages/opencv_python.libs/libavutil-9c768859.so.56.70.100\n",
            "    /usr/local/lib/python3.7/dist-packages/opencv_python.libs/libbz2-a273e504.so.1.0.6\n",
            "    /usr/local/lib/python3.7/dist-packages/opencv_python.libs/libcrypto-d21001fc.so.1.1\n",
            "    /usr/local/lib/python3.7/dist-packages/opencv_python.libs/libgfortran-91cc3cb1.so.3.0.0\n",
            "    /usr/local/lib/python3.7/dist-packages/opencv_python.libs/libopenblas-r0-f650aae0.3.3.so\n",
            "    /usr/local/lib/python3.7/dist-packages/opencv_python.libs/libpng16-57e5e0a0.so.16.37.0\n",
            "    /usr/local/lib/python3.7/dist-packages/opencv_python.libs/libquadmath-96973f99.so.0.0.0\n",
            "    /usr/local/lib/python3.7/dist-packages/opencv_python.libs/libssl-c8c53640.so.1.1\n",
            "    /usr/local/lib/python3.7/dist-packages/opencv_python.libs/libswresample-99364a1c.so.3.9.100\n",
            "    /usr/local/lib/python3.7/dist-packages/opencv_python.libs/libswscale-e6451464.so.5.9.100\n",
            "    /usr/local/lib/python3.7/dist-packages/opencv_python.libs/libvpx-f22f1483.so.7.0.0\n",
            "    /usr/local/lib/python3.7/dist-packages/opencv_python.libs/libxcb-icccm-413c9f41.so.4.0.0\n",
            "    /usr/local/lib/python3.7/dist-packages/opencv_python.libs/libxcb-image-e82a276d.so.0.0.0\n",
            "    /usr/local/lib/python3.7/dist-packages/opencv_python.libs/libxcb-keysyms-21015570.so.1.0.0\n",
            "    /usr/local/lib/python3.7/dist-packages/opencv_python.libs/libxcb-randr-a96a5a87.so.0.1.0\n",
            "    /usr/local/lib/python3.7/dist-packages/opencv_python.libs/libxcb-render-637b984a.so.0.0.0\n",
            "    /usr/local/lib/python3.7/dist-packages/opencv_python.libs/libxcb-render-util-43ce00f5.so.0.0.0\n",
            "    /usr/local/lib/python3.7/dist-packages/opencv_python.libs/libxcb-shape-25c2b258.so.0.0.0\n",
            "    /usr/local/lib/python3.7/dist-packages/opencv_python.libs/libxcb-shm-7a199f70.so.0.0.0\n",
            "    /usr/local/lib/python3.7/dist-packages/opencv_python.libs/libxcb-sync-89374f40.so.1.0.0\n",
            "    /usr/local/lib/python3.7/dist-packages/opencv_python.libs/libxcb-util-4d666913.so.1.0.0\n",
            "    /usr/local/lib/python3.7/dist-packages/opencv_python.libs/libxcb-xfixes-9be3ba6f.so.0.0.0\n",
            "    /usr/local/lib/python3.7/dist-packages/opencv_python.libs/libxcb-xinerama-ae147f87.so.0.0.0\n",
            "    /usr/local/lib/python3.7/dist-packages/opencv_python.libs/libxcb-xkb-9ba31ab3.so.1.0.0\n",
            "    /usr/local/lib/python3.7/dist-packages/opencv_python.libs/libxkbcommon-71ae2972.so.0.0.0\n",
            "    /usr/local/lib/python3.7/dist-packages/opencv_python.libs/libxkbcommon-x11-c65ed502.so.0.0.0\n",
            "Proceed (y/n)? y\n",
            "  Successfully uninstalled opencv-python-4.6.0.66\n",
            "\u001b[33mWARNING: Skipping opencv-python-inference-engine as it is not installed.\u001b[0m\n",
            "Looking in indexes: https://pypi.org/simple, https://us-python.pkg.dev/colab-wheels/public/simple/\n",
            "Collecting opencv-python-inference-engine\n",
            "  Downloading opencv_python_inference_engine-2022.1.5-py3-none-manylinux1_x86_64.whl (41.3 MB)\n",
            "\u001b[K     |████████████████████████████████| 41.3 MB 1.1 MB/s \n",
            "\u001b[?25hRequirement already satisfied: numpy in /usr/local/lib/python3.7/dist-packages (from opencv-python-inference-engine) (1.21.6)\n",
            "Installing collected packages: opencv-python-inference-engine\n",
            "Successfully installed opencv-python-inference-engine-2022.1.5\n"
          ]
        },
        {
          "data": {
            "application/vnd.colab-display-data+json": {
              "pip_warning": {
                "packages": [
                  "cv2"
                ]
              }
            }
          },
          "metadata": {},
          "output_type": "display_data"
        }
      ],
      "source": [
        "!pip3 uninstall opencv-python\n",
        "!pip3 uninstall opencv-python-inference-engine\n",
        "!pip3 install opencv-python-inference-engine"
      ]
    },
    {
      "cell_type": "code",
      "execution_count": null,
      "metadata": {
        "colab": {
          "base_uri": "https://localhost:8080/"
        },
        "id": "xTrDQStkhWpU",
        "outputId": "1c64c209-a0ec-4ac6-80bd-e54823251150"
      },
      "outputs": [
        {
          "name": "stdout",
          "output_type": "stream",
          "text": [
            "Looking in indexes: https://pypi.org/simple, https://us-python.pkg.dev/colab-wheels/public/simple/\n",
            "Requirement already satisfied: opencv-contrib-python in /usr/local/lib/python3.7/dist-packages (4.6.0.66)\n",
            "Requirement already satisfied: numpy>=1.14.5 in /usr/local/lib/python3.7/dist-packages (from opencv-contrib-python) (1.21.6)\n"
          ]
        }
      ],
      "source": [
        "!pip install opencv-contrib-python\n"
      ]
    },
    {
      "cell_type": "code",
      "execution_count": null,
      "metadata": {
        "colab": {
          "background_save": true
        },
        "id": "1D00Mb9TyJdi"
      },
      "outputs": [],
      "source": [
        "v_path=\"/content/drive/MyDrive/Colab Notebooks/openvino_vehicle_detection/result/video.mp4\"\n",
        "vs = cv2.VideoCapture(v_path)\n",
        "if vs :\n",
        "    print(\"Accessing Video Stream\")\n",
        "height = int(vs.get(cv2.CAP_PROP_FRAME_HEIGHT))\n",
        "width = int(vs.get(cv2.CAP_PROP_FRAME_WIDTH))\n",
        "print(\"Video resolution : \", height, width)\n",
        "\n",
        "fourcc = cv2.VideoWriter_fourcc(*'XVID')\n",
        "\n",
        "assert vs.isOpened(), 'Cannot capture source'\n",
        "#Add extension mask_rcnn to video name\n",
        "video_detection_path =  v_path.split(\".\")[0] + \"_result_pedestrian-and-vehicle-detector.\" + v_path.split(\".\")[1]\n",
        "\n",
        "\n",
        "#Video save\n",
        "videoSaved = cv2.VideoWriter(video_detection_path, apiPreference=cv2.CAP_FFMPEG,\n",
        "                             fourcc = fourcc,fps =20, frameSize=(width, height),\t\n",
        "                             isColor= True)\n",
        "\n",
        "\n",
        "net = cv2.dnn.readNet('/content/drive/MyDrive/Colab Notebooks/openvino_vehicle_detection/Models/pedestrian-and-vehicle-detector-adas-0001.xml', '/content/drive/MyDrive/Colab Notebooks/openvino_vehicle_detection/Models/pedestrian-and-vehicle-detector-adas-0001.bin')\n",
        "\n",
        "while vs.isOpened() :\n",
        "  grabbed , frame  = vs.read()\n",
        "  if frame is None:\n",
        "    break\n",
        "  #frame = imutils.resize(frame, width=300)\n",
        "  image_ = frame.copy()\n",
        "\n",
        "\n",
        "  # if the frame not grabbing means that we reach the end\n",
        "  if not grabbed :\n",
        "    print(\"No frame read from the steam\")\n",
        "    break\n",
        "  H, W, _ = frame.shape\n",
        "  #prediction\n",
        "  # Prepare input blob and perform an inference\n",
        "  blob = cv2.dnn.blobFromImage(frame, size=(672, 384), ddepth=cv2.CV_8U)\n",
        "  net.setInput(blob)\n",
        "  out = net.forward()\n",
        "\n",
        "  predictions = []\n",
        "\n",
        "  # The net outputs a blob with the shape: [1, 1, N, 7], where N is the number of detected bounding boxes.\n",
        "  # For each detection, the description has the format: [image_id, label, conf, x_min, y_min, x_max, y_max]\n",
        "\n",
        "  # Draw detected faces on the frame\n",
        "  for detection in out.reshape(-1, 7):\n",
        "      image_id, label, conf, x_min, y_min, x_max, y_max = detection\n",
        "\n",
        "      if conf > 0.8:\n",
        "          pred_boxpts = ((x_min, y_min), (x_max, y_max))\n",
        "\n",
        "          # create prediciton tuple and append the prediction to the\n",
        "          # predictions list\n",
        "          prediction = (label, conf, pred_boxpts)\n",
        "          predictions.append(prediction)\n",
        "  if predictions :\n",
        "        # loop over our predictions\n",
        "        for (i, pred) in enumerate(predictions):\n",
        "            # extract prediction data for readability\n",
        "            (label, pred_conf, pred_boxpts) = pred\n",
        "            ((x_min, y_min), (x_max, y_max)) = pred_boxpts \n",
        "            \n",
        "            # filter out weak detections by ensuring the `confidence`\n",
        "            # is greater than the minimum confidence\n",
        "           # if pred_conf > 0.8:\n",
        "                # print prediction to terminal\n",
        "               # print(\"[INFO] Prediction #{}: confidence={}, \"\n",
        "               #       \"boxpoints={}\".format(i, pred_conf,\n",
        "                 #                           pred_boxpts))\n",
        "\n",
        "                # check if we should show the prediction data\n",
        "                # on the frame\n",
        "                #if args[\"display\"] > 0:\n",
        "                    # build a label\n",
        "            if label == 1:\n",
        "                label = \"vehicle: {:.2f}%\".format(pred_conf * 100)\n",
        "            elif label == 2:\n",
        "                label = \"pedestrian: {:.2f}%\".format(pred_conf * 100)\n",
        "\n",
        "\n",
        "            x_min = int(x_min * W)\n",
        "            y_min = int(y_min * H)\n",
        "            x_max = int(x_max * W)\n",
        "            y_max = int(y_max * H)\n",
        "\n",
        "            # extract information from the prediction boxpoints\n",
        "            y = y_min - 15 if y_min - 15 > 15 else y_min + 15\n",
        "\n",
        "            # display the rectangle and label text\n",
        "            cv2.rectangle(image_, (x_min, y_min), (x_max, y_max),\n",
        "                          (255, 0, 0), 2)\n",
        "            cv2.putText(image_, label, (x_min, y),\n",
        "                        cv2.FONT_HERSHEY_SIMPLEX, 1, (0, 255, 0), 3)\n",
        "\n",
        "        videoSaved.write(image_)\n",
        "       # cv2_imshow(image_)\n",
        "\n",
        "videoSaved.release()\n",
        "\n",
        "\n",
        " "
      ]
    },
    {
      "cell_type": "code",
      "execution_count": null,
      "metadata": {
        "id": "iODt5IEWfHAy"
      },
      "outputs": [],
      "source": []
    }
  ],
  "metadata": {
    "colab": {
      "collapsed_sections": [],
      "provenance": []
    },
    "kernelspec": {
      "display_name": "Python 3",
      "name": "python3"
    },
    "language_info": {
      "name": "python"
    }
  },
  "nbformat": 4,
  "nbformat_minor": 0
}